{
 "cells": [
  {
   "cell_type": "code",
   "execution_count": 1,
   "id": "19e0870e-353e-447a-b429-334625bc1d72",
   "metadata": {},
   "outputs": [
    {
     "name": "stdout",
     "output_type": "stream",
     "text": [
      "Requirement already satisfied: faiss-cpu in /root/miniconda3/envs/langchain/lib/python3.10/site-packages (1.7.4)\n",
      "\u001B[33mWARNING: Running pip as the 'root' user can result in broken permissions and conflicting behaviour with the system package manager. It is recommended to use a virtual environment instead: https://pip.pypa.io/warnings/venv\u001B[0m\u001B[33m\n",
      "\u001B[0m"
     ]
    }
   ],
   "source": [
    "!pip install faiss-cpu"
   ]
  },
  {
   "cell_type": "code",
   "execution_count": 2,
   "id": "74edc7c2-2f05-40d3-98c9-c1c4d13bf819",
   "metadata": {},
   "outputs": [],
   "source": [
    "# 需要 CUDA 7.5+ 版本支持的 GPU\n",
    "#!pip install faiss-gpu "
   ]
  },
  {
   "cell_type": "markdown",
   "id": "cfd2fec5-84f0-429d-903a-08933bf19cfa",
   "metadata": {},
   "source": [
    "# Faiss 向量数据库"
   ]
  },
  {
   "cell_type": "code",
   "id": "03b26ecf-987a-4c53-b7fa-cc566363276d",
   "metadata": {
    "ExecuteTime": {
     "end_time": "2024-04-13T03:36:32.622603Z",
     "start_time": "2024-04-13T03:36:31.885085Z"
    }
   },
   "source": [
    "from langchain_openai import OpenAIEmbeddings\n",
    "from langchain.text_splitter import CharacterTextSplitter\n",
    "from langchain.vectorstores import FAISS\n",
    "from langchain.document_loaders import TextLoader"
   ],
   "outputs": [],
   "execution_count": 2
  },
  {
   "cell_type": "code",
   "id": "cb5d79ae-6fe5-4fff-bfab-30762c1f1188",
   "metadata": {
    "ExecuteTime": {
     "end_time": "2024-04-13T04:33:08.510114Z",
     "start_time": "2024-04-13T04:33:08.504982Z"
    }
   },
   "source": [
    "# 实例化文档加载器\n",
    "loader = TextLoader(\"/Users/xiangyufan/code/sales_chatbot/llm_case_sales_data.txt\")\n",
    "# 加载文档\n",
    "documents = loader.load()"
   ],
   "outputs": [],
   "execution_count": 25
  },
  {
   "cell_type": "code",
   "id": "9b404e22-a148-4b63-a69c-54b1e76db5d3",
   "metadata": {
    "ExecuteTime": {
     "end_time": "2024-04-13T04:33:09.810184Z",
     "start_time": "2024-04-13T04:33:09.806761Z"
    }
   },
   "source": [
    "# 实例化文本分割器\n",
    "text_splitter = CharacterTextSplitter(chunk_size=1000, chunk_overlap=0)\n",
    "# 分割文本\n",
    "docs = text_splitter.split_documents(documents)"
   ],
   "outputs": [],
   "execution_count": 26
  },
  {
   "cell_type": "code",
   "id": "34897ff3-8f9c-42d6-841f-e06c0d2f521c",
   "metadata": {
    "collapsed": true,
    "jupyter": {
     "outputs_hidden": true
    },
    "ExecuteTime": {
     "end_time": "2024-04-13T04:33:13.243409Z",
     "start_time": "2024-04-13T04:33:13.237317Z"
    }
   },
   "source": [
    "docs"
   ],
   "outputs": [
    {
     "data": {
      "text/plain": [
       "[Document(page_content='1. [客户问题]：这个课程适合我吗？\\n   [销售回答]：这个课程设计得非常全面，无论您是初学者还是有一些基础，都能在课程中找到适合您的部分。\\n\\n2. [客户问题]：这个课程的学习时间长吗？\\n   [销售回答]：这个课程的学习时间取决于您的学习进度，但它的模块设计灵活，您可以根据自己的时间安排进行学习。\\n\\n3. [客户问题]：我能从这个课程中学到什么？\\n   [销售回答]：这个课程涵盖了大模型的基础知识、实践应用和最新的研究进展，您将有机会掌握大模型的全面知识。\\n\\n4. [客户问题]：这个课程的教学质量如何？\\n   [销售回答]：我们的课程由行业专家授课，他们在大模型领域有丰富的经验和深厚的理论基础，我们对教学质量有着严格的把控。\\n\\n5. [客户问题]：我需要哪些预备知识才能学习这个课程？\\n   [销售回答]：这个课程需要一些基础的编程知识，但即使您是初学者，我们也提供了入门模块帮助您建立基础。\\n\\n6. [客户问题]：这个课程的价格如何？\\n   [销售回答]：我们的课程定价非常公平，考虑到了课程的内容、教学质量和市场情况。同时，我们也提供了一些优惠政策，如学生优惠等。\\n\\n7. [客户问题]：完成这个课程后，我能得到证书吗？\\n   [销售回答]：是的，完成课程并通过考核后，您将获得我们提供的课程完成证书，这将是您专业技能的有力证明。\\n\\n8. [客户问题]：我可以试听一下这个课程吗？\\n   [销售回答]：当然，我们为您提供了试听课程，您可以先体验一下我们的教学风格和课程内容。\\n\\n9. [客户问题]：我有问题可以咨询谁？\\n   [销售回答]：我们有专门的学习支持团队，您在学习过程中遇到任何问题，都可以随时联系他们。\\n\\n10. [客户问题]：我可以分期付款吗？\\n    [销售回答]：我们提供了多种付款方式，包括分期付款，我们希望每一位学员都能无压力地学习。\\n\\n11. [客户问题]：我已经有一些基础了，这个课程是不是会太简单？\\n    [销售回答]：这个课程设计得非常全面，不仅有适合初学者的基础模块，也有适合有经验学员的深度模块。\\n\\n12. [客户问题]：我没有编程基础，能学吗？\\n    [销售回答]：当然可以，我们的课程会从最基础的部分开始教起，让您有足够的时间和资源掌握所需的编程技能。', metadata={'source': '/Users/xiangyufan/code/sales_chatbot/llm_case_sals_data.txt'}),\n",
       " Document(page_content='13. [客户问题]：我可以先试学一段时间再决定购买吗？\\n    [销售回答]：我们提供了试学期，您可以在这段时间内免费试学部分课程内容，确认是否适合您再作决定。\\n\\n14. [客户问题]：我需要购买额外的教材或软件吗？\\n    [销售回答]：不需要，我们的课程费用包含了所有必要的学习材料和软件许可。\\n\\n15. [客户问题]：我可以随时开始学习吗？\\n    [销售回答]：是的，我们的课程是自学型的，您可以在购买后立即开始学习。\\n\\n16. [客户问题]：我需要每天投入多少时间学习？\\n    [销售回答]：这取决于您的学习速度和目标，但我们推荐每天至少投入1-2小时的学习时间。\\n\\n17. [客户问题]：我在学习过程中遇到问题怎么办？\\n    [销售回答]：我们有专门的学习支持团队，您在学习过程中遇到任何问题，都可以随时联系他们。\\n\\n18. [客户问题]：这个课程的退款政策是怎样的？\\n    [销售回答]：如果您在购买后的一段时间内发现这个课程不适合您，我们提供无条件退款政策。\\n\\n19. [客户问题]：这个课程包含实践项目吗？\\n    [销售回答]：是的，我们的课程包含多个实践项目，让您有机会将所学知识应用到实际问题中。\\n\\n20. [客户问题]：我能在简历上写上这个课程吗？\\n    [销售回答]：当然，完成我们的课程是您技能提升的证明，完全可以在简历上展示。\\n\\n21. [客户问题]：我可以用这个课程的学习经历申请学分吗？\\n    [销售回答]：我们的课程是被许多学校认可的，您可以咨询您的学校是否接受将这个课程作为学分。\\n\\n22. [客户问题]：我可以参加这个课程的社区吗？\\n    [销售回答]：当然，我们有专门的学习社区，您可以在那里与其他学员交流，分享学习经验。\\n\\n23. [客户问题]：我怎么知道我适合学习这个课程？\\n    [销售回答]：如果您对大模型有兴趣，或者您想提升自己的技能，那么这个课程就非常适合您。\\n\\n24. [客户问题]：我完成这个课程后有哪些职业发展机会？\\n    [销售回答]：学习了这个课程后，您将拥有大模型的专业知识，这将为您在AI、数据分析、产品开发等领域提供更多的职业机会。', metadata={'source': '/Users/xiangyufan/code/sales_chatbot/llm_case_sals_data.txt'}),\n",
       " Document(page_content='25. [客户问题]：这个课程的教学方式是怎样的？\\n    [销售回答]：我们的课程采用在线自学的方式，您可以按照自己的节奏进行学习。我们也提供视频教程、实践项目和在线答疑等支持。\\n\\n [客户问题]：这个课程的有效期是多久？\\n[销售回答]：购买后，您将拥有永久的课程访问权，可以随时复习和更新学习内容。\\n\\n[客户问题]：我可以和讲师直接交流吗？\\n[销售回答]：我们有定期的在线问答环节，您可以在那时向讲师提问。同时，我们的学习社区也是一个很好的互动平台。\\n\\n[客户问题]：我需要提前准备什么才能开始学习？\\n[销售回答]：您只需要一台可以联网的电脑，我们的课程会从零开始教起，无需任何预备知识。\\n\\n[客户问题]：我可以和其他学员一起学习吗？\\n[销售回答]：当然，我们的学习社区提供了一个很好的平台，您可以在那里找到学习伙伴。\\n\\n[客户问题]：我完成课程后会得到证书吗？\\n[销售回答]：是的，完成课程后，您将获得我们的结业证书，这是您学习成果的官方认可。\\n\\n[客户问题]：我可以分期付款吗？\\n[销售回答]：我们提供了多种付款方式，包括分期付款，以降低您的经济压力。\\n\\n[客户问题]：我可以先参观一下课程平台吗？\\n[销售回答]：当然，我们可以为您安排一次在线演示，让您了解我们的课程平台和学习体验。\\n\\n[客户问题]：我在工作日没有时间学习，只能在周末学习，这样可以吗？\\n[销售回答]：完全可以，我们的课程是完全自学的，您可以根据自己的时间安排进行学习。\\n\\n[客户问题]：我对大模型的知识一无所知，这个课程适合我吗？\\n[销售回答]：这个课程就是为了帮助像您这样的初学者入门大模型设计的，我们会从最基础的部分开始教起。\\n\\n[客户问题]：我在其他地方看到了类似的课程，为什么我要选择你们的课程？\\n[销售回答]：我们的课程由行业专家设计，内容全面，结构清晰，配备了丰富的实践项目和专业的学习支持，我们相信这将是您最佳的学习选择。', metadata={'source': '/Users/xiangyufan/code/sales_chatbot/llm_case_sals_data.txt'})]"
      ]
     },
     "execution_count": 27,
     "metadata": {},
     "output_type": "execute_result"
    }
   ],
   "execution_count": 27
  },
  {
   "cell_type": "code",
   "id": "4f755948-f125-44c8-8505-0ca0759c15ff",
   "metadata": {
    "ExecuteTime": {
     "end_time": "2024-04-13T04:33:15.243991Z",
     "start_time": "2024-04-13T04:33:15.205010Z"
    }
   },
   "source": [
    "# OpenAI Embedding 模型\n",
    "embeddings = OpenAIEmbeddings()"
   ],
   "outputs": [],
   "execution_count": 28
  },
  {
   "cell_type": "code",
   "id": "8bcd5edb-c085-4a6f-8f50-0885a6d2f15b",
   "metadata": {
    "ExecuteTime": {
     "end_time": "2024-04-13T04:33:17.908279Z",
     "start_time": "2024-04-13T04:33:16.668488Z"
    }
   },
   "source": [
    "# FAISS 向量数据库，使用 docs 的向量作为初始化存储\n",
    "db = FAISS.from_documents(docs, embeddings)"
   ],
   "outputs": [],
   "execution_count": 29
  },
  {
   "cell_type": "code",
   "id": "c227bec9-fbe0-46a5-8a86-7bfaf6fe5882",
   "metadata": {
    "ExecuteTime": {
     "end_time": "2024-04-13T04:33:28.925396Z",
     "start_time": "2024-04-13T04:33:28.923142Z"
    }
   },
   "source": [
    "# 构造提问 Query\n",
    "query = \"学这个需要有基础吗\""
   ],
   "outputs": [],
   "execution_count": 30
  },
  {
   "cell_type": "markdown",
   "id": "f3443153-da85-4f33-bd8d-18bccd3eae18",
   "metadata": {},
   "source": [
    "## 相似度搜索"
   ]
  },
  {
   "cell_type": "code",
   "id": "8fbbbf2e-0ff8-49d9-a378-09e2a0443a77",
   "metadata": {
    "ExecuteTime": {
     "end_time": "2024-04-13T04:33:32.840876Z",
     "start_time": "2024-04-13T04:33:31.938703Z"
    }
   },
   "source": [
    "# 在 Faiss 中进行相似度搜索，找出与 query 最相似结果\n",
    "docs = db.similarity_search(query)"
   ],
   "outputs": [],
   "execution_count": 31
  },
  {
   "cell_type": "code",
   "id": "918221f6-9687-4b04-a6b4-20527b111023",
   "metadata": {
    "collapsed": true,
    "jupyter": {
     "outputs_hidden": true
    },
    "ExecuteTime": {
     "end_time": "2024-04-13T04:33:35.596368Z",
     "start_time": "2024-04-13T04:33:35.592423Z"
    }
   },
   "source": [
    "# 输出 Faiss 中最相似结果\n",
    "print(docs[0].page_content)"
   ],
   "outputs": [
    {
     "name": "stdout",
     "output_type": "stream",
     "text": [
      "1. [客户问题]：这个课程适合我吗？\n",
      "   [销售回答]：这个课程设计得非常全面，无论您是初学者还是有一些基础，都能在课程中找到适合您的部分。\n",
      "\n",
      "2. [客户问题]：这个课程的学习时间长吗？\n",
      "   [销售回答]：这个课程的学习时间取决于您的学习进度，但它的模块设计灵活，您可以根据自己的时间安排进行学习。\n",
      "\n",
      "3. [客户问题]：我能从这个课程中学到什么？\n",
      "   [销售回答]：这个课程涵盖了大模型的基础知识、实践应用和最新的研究进展，您将有机会掌握大模型的全面知识。\n",
      "\n",
      "4. [客户问题]：这个课程的教学质量如何？\n",
      "   [销售回答]：我们的课程由行业专家授课，他们在大模型领域有丰富的经验和深厚的理论基础，我们对教学质量有着严格的把控。\n",
      "\n",
      "5. [客户问题]：我需要哪些预备知识才能学习这个课程？\n",
      "   [销售回答]：这个课程需要一些基础的编程知识，但即使您是初学者，我们也提供了入门模块帮助您建立基础。\n",
      "\n",
      "6. [客户问题]：这个课程的价格如何？\n",
      "   [销售回答]：我们的课程定价非常公平，考虑到了课程的内容、教学质量和市场情况。同时，我们也提供了一些优惠政策，如学生优惠等。\n",
      "\n",
      "7. [客户问题]：完成这个课程后，我能得到证书吗？\n",
      "   [销售回答]：是的，完成课程并通过考核后，您将获得我们提供的课程完成证书，这将是您专业技能的有力证明。\n",
      "\n",
      "8. [客户问题]：我可以试听一下这个课程吗？\n",
      "   [销售回答]：当然，我们为您提供了试听课程，您可以先体验一下我们的教学风格和课程内容。\n",
      "\n",
      "9. [客户问题]：我有问题可以咨询谁？\n",
      "   [销售回答]：我们有专门的学习支持团队，您在学习过程中遇到任何问题，都可以随时联系他们。\n",
      "\n",
      "10. [客户问题]：我可以分期付款吗？\n",
      "    [销售回答]：我们提供了多种付款方式，包括分期付款，我们希望每一位学员都能无压力地学习。\n",
      "\n",
      "11. [客户问题]：我已经有一些基础了，这个课程是不是会太简单？\n",
      "    [销售回答]：这个课程设计得非常全面，不仅有适合初学者的基础模块，也有适合有经验学员的深度模块。\n",
      "\n",
      "12. [客户问题]：我没有编程基础，能学吗？\n",
      "    [销售回答]：当然可以，我们的课程会从最基础的部分开始教起，让您有足够的时间和资源掌握所需的编程技能。\n"
     ]
    }
   ],
   "execution_count": 32
  },
  {
   "cell_type": "markdown",
   "id": "8d5a351e-bea4-43d3-9b31-567842aaa1c9",
   "metadata": {},
   "source": [
    "## 持久化存储 Faiss DB"
   ]
  },
  {
   "cell_type": "code",
   "id": "44f4df2f-ed07-4322-9cfc-7044fc18ed1a",
   "metadata": {
    "ExecuteTime": {
     "end_time": "2024-04-13T04:33:46.398815Z",
     "start_time": "2024-04-13T04:33:46.391625Z"
    }
   },
   "source": "db.save_local(\"llm_case_sale\")",
   "outputs": [],
   "execution_count": 33
  },
  {
   "cell_type": "code",
   "id": "5bfe3f8a-d975-42c6-b3c0-40d253506442",
   "metadata": {
    "ExecuteTime": {
     "end_time": "2024-04-13T04:33:47.759762Z",
     "start_time": "2024-04-13T04:33:47.758256Z"
    }
   },
   "source": [],
   "outputs": [],
   "execution_count": 33
  },
  {
   "cell_type": "markdown",
   "id": "346ca9d7-f4bf-4579-a301-7a6964492a31",
   "metadata": {},
   "source": [
    "## 加载 Faiss DB"
   ]
  },
  {
   "cell_type": "code",
   "id": "2dd3c237-3b9e-4439-966f-a34270d6471a",
   "metadata": {
    "ExecuteTime": {
     "end_time": "2024-04-13T04:33:59.284817Z",
     "start_time": "2024-04-13T04:33:59.281876Z"
    }
   },
   "source": "new_db = FAISS.load_local(\"llm_case_sale\", embeddings, allow_dangerous_deserialization=True)",
   "outputs": [],
   "execution_count": 37
  },
  {
   "cell_type": "code",
   "id": "8c81f9f3-1650-4737-adec-d09380f1b8d9",
   "metadata": {
    "ExecuteTime": {
     "end_time": "2024-04-13T04:34:00.740630Z",
     "start_time": "2024-04-13T04:33:59.775727Z"
    }
   },
   "source": [
    "docs = new_db.similarity_search(query)"
   ],
   "outputs": [],
   "execution_count": 38
  },
  {
   "cell_type": "code",
   "id": "0524202a-199c-4284-81d7-c6febf2b584e",
   "metadata": {
    "ExecuteTime": {
     "end_time": "2024-04-13T04:34:00.743451Z",
     "start_time": "2024-04-13T04:34:00.741511Z"
    }
   },
   "source": [
    "print(docs[0].page_content)"
   ],
   "outputs": [
    {
     "name": "stdout",
     "output_type": "stream",
     "text": [
      "1. [客户问题]：这个课程适合我吗？\n",
      "   [销售回答]：这个课程设计得非常全面，无论您是初学者还是有一些基础，都能在课程中找到适合您的部分。\n",
      "\n",
      "2. [客户问题]：这个课程的学习时间长吗？\n",
      "   [销售回答]：这个课程的学习时间取决于您的学习进度，但它的模块设计灵活，您可以根据自己的时间安排进行学习。\n",
      "\n",
      "3. [客户问题]：我能从这个课程中学到什么？\n",
      "   [销售回答]：这个课程涵盖了大模型的基础知识、实践应用和最新的研究进展，您将有机会掌握大模型的全面知识。\n",
      "\n",
      "4. [客户问题]：这个课程的教学质量如何？\n",
      "   [销售回答]：我们的课程由行业专家授课，他们在大模型领域有丰富的经验和深厚的理论基础，我们对教学质量有着严格的把控。\n",
      "\n",
      "5. [客户问题]：我需要哪些预备知识才能学习这个课程？\n",
      "   [销售回答]：这个课程需要一些基础的编程知识，但即使您是初学者，我们也提供了入门模块帮助您建立基础。\n",
      "\n",
      "6. [客户问题]：这个课程的价格如何？\n",
      "   [销售回答]：我们的课程定价非常公平，考虑到了课程的内容、教学质量和市场情况。同时，我们也提供了一些优惠政策，如学生优惠等。\n",
      "\n",
      "7. [客户问题]：完成这个课程后，我能得到证书吗？\n",
      "   [销售回答]：是的，完成课程并通过考核后，您将获得我们提供的课程完成证书，这将是您专业技能的有力证明。\n",
      "\n",
      "8. [客户问题]：我可以试听一下这个课程吗？\n",
      "   [销售回答]：当然，我们为您提供了试听课程，您可以先体验一下我们的教学风格和课程内容。\n",
      "\n",
      "9. [客户问题]：我有问题可以咨询谁？\n",
      "   [销售回答]：我们有专门的学习支持团队，您在学习过程中遇到任何问题，都可以随时联系他们。\n",
      "\n",
      "10. [客户问题]：我可以分期付款吗？\n",
      "    [销售回答]：我们提供了多种付款方式，包括分期付款，我们希望每一位学员都能无压力地学习。\n",
      "\n",
      "11. [客户问题]：我已经有一些基础了，这个课程是不是会太简单？\n",
      "    [销售回答]：这个课程设计得非常全面，不仅有适合初学者的基础模块，也有适合有经验学员的深度模块。\n",
      "\n",
      "12. [客户问题]：我没有编程基础，能学吗？\n",
      "    [销售回答]：当然可以，我们的课程会从最基础的部分开始教起，让您有足够的时间和资源掌握所需的编程技能。\n"
     ]
    }
   ],
   "execution_count": 39
  },
  {
   "cell_type": "code",
   "execution_count": null,
   "id": "ac22b688-6e25-41ea-aab0-cb70fd148c64",
   "metadata": {},
   "outputs": [],
   "source": []
  }
 ],
 "metadata": {
  "kernelspec": {
   "display_name": "Python 3 (ipykernel)",
   "language": "python",
   "name": "python3"
  },
  "language_info": {
   "codemirror_mode": {
    "name": "ipython",
    "version": 3
   },
   "file_extension": ".py",
   "mimetype": "text/x-python",
   "name": "python",
   "nbconvert_exporter": "python",
   "pygments_lexer": "ipython3",
   "version": "3.10.14"
  }
 },
 "nbformat": 4,
 "nbformat_minor": 5
}
